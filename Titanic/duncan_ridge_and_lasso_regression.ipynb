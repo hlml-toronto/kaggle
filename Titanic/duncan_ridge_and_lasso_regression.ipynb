{
 "cells": [
  {
   "cell_type": "markdown",
   "metadata": {},
   "source": [
    "# Predicting survival based on passenger data\n",
    "\n",
    "The goal is to take passenger data such as ticket class, gender, etc. and predict whether or not the passenger survives"
   ]
  },
  {
   "cell_type": "markdown",
   "metadata": {},
   "source": [
    "### Load data\n",
    "\n",
    "We use a converter because we want to make Sex and Embarked numeric variables so that we can use them in future computations. Additionally, we are going to drop the Name, Cabin, and Ticket predictors because we don't expect them to help with prediction and they're more difficult to make numerical."
   ]
  },
  {
   "cell_type": "code",
   "execution_count": 41,
   "metadata": {},
   "outputs": [],
   "source": [
    "import pandas as pd\n",
    "training_data = pd.read_csv('train.csv', index_col='PassengerId', \n",
    "                            converters={'Sex': lambda x: 1 if x=='male' else 2,\n",
    "                                       'Embarked': lambda x: 1 if x=='C' else (2 if x=='Q' else 3)}).drop(['Name', 'Ticket', 'Cabin'], axis=1).fillna(0)\n",
    "testing_data = pd.read_csv('test.csv', index_col='PassengerId', \n",
    "                            converters={'Sex': lambda x: 1 if x=='male' else 2,\n",
    "                                       'Embarked': lambda x: 1 if x=='C' else (2 if x=='Q' else 3)}).drop(['Name', 'Ticket', 'Cabin'], axis=1).fillna(0)\n"
   ]
  },
  {
   "cell_type": "code",
   "execution_count": 82,
   "metadata": {},
   "outputs": [
    {
     "name": "stdout",
     "output_type": "stream",
     "text": [
      "             Survived  Pclass  Sex   Age  SibSp  Parch     Fare  Embarked\n",
      "PassengerId                                                              \n",
      "1                   0       3    1  22.0      1      0   7.2500         3\n",
      "2                   1       1    2  38.0      1      0  71.2833         1\n",
      "3                   1       3    2  26.0      0      0   7.9250         3\n",
      "4                   1       1    2  35.0      1      0  53.1000         3\n",
      "5                   0       3    1  35.0      0      0   8.0500         3\n",
      "6                   0       3    1   0.0      0      0   8.4583         2\n",
      "7                   0       1    1  54.0      0      0  51.8625         3\n",
      "8                   0       3    1   2.0      3      1  21.0750         3\n"
     ]
    }
   ],
   "source": [
    "print(training_data.loc[[1,2,3,4,5,6,7,8]])"
   ]
  },
  {
   "cell_type": "markdown",
   "metadata": {},
   "source": [
    "### Parse data\n",
    "\n",
    "We want to split the data into predictors and the class (think 'x' and 'y'). "
   ]
  },
  {
   "cell_type": "code",
   "execution_count": 43,
   "metadata": {},
   "outputs": [],
   "source": [
    "training_data_x = training_data.drop(['Survived'], axis=1)\n",
    "training_data_y = training_data['Survived']"
   ]
  },
  {
   "cell_type": "markdown",
   "metadata": {},
   "source": [
    "## Linear regression\n",
    "\n",
    "Since we don't necessarily know where to start, let's start with the simplest approach. We'll try lasso and ridge linear regression."
   ]
  },
  {
   "cell_type": "code",
   "execution_count": 46,
   "metadata": {},
   "outputs": [],
   "source": [
    "import numpy as np\n",
    "import matplotlib.pyplot as plt\n",
    "import seaborn\n",
    "\n",
    "from sklearn import linear_model\n",
    "\n",
    "#Set up Lasso and Ridge Regression models\n",
    "ridge=linear_model.Ridge()\n",
    "lasso = linear_model.Lasso()"
   ]
  },
  {
   "cell_type": "markdown",
   "metadata": {},
   "source": [
    "We don't know how much to regularize, so let's try several values (linear regression is cheap and fast)."
   ]
  },
  {
   "cell_type": "code",
   "execution_count": 51,
   "metadata": {},
   "outputs": [],
   "source": [
    "#Chooose a variety of different lambdas for regularization strength, to compare\n",
    "lambdas = np.logspace(-3, 3, 10)"
   ]
  },
  {
   "cell_type": "markdown",
   "metadata": {},
   "source": [
    "Perform the regression"
   ]
  },
  {
   "cell_type": "code",
   "execution_count": 55,
   "metadata": {},
   "outputs": [],
   "source": [
    "#Initialize coeffficients for ridge regression and Lasso\n",
    "coefs_ridge = []\n",
    "coefs_lasso=[]\n",
    "\n",
    "train_errors_lasso = list()\n",
    "\n",
    "train_errors_ridge = list()\n",
    "\n",
    "# Regress!\n",
    "for a in lambdas:\n",
    "    ridge.set_params(alpha=a) # ridge() uses alpha instead of labmda to label the regularization penalty strength\n",
    "    ridge.fit(training_data_x, training_data_y)\n",
    "    coefs_ridge.append(ridge.coef_)\n",
    "    \n",
    "    # Use the coefficient of determination R^2 as the performance of prediction.\n",
    "    train_errors_ridge.append(ridge.score(training_data_x, training_data_y))\n",
    "    \n",
    "    lasso.set_params(alpha=a)# lasso() uses alpha instead of labmda to label the regularization penalty strength\n",
    "    lasso.fit(training_data_x, training_data_y)\n",
    "    coefs_lasso.append(lasso.coef_)\n",
    "    train_errors_lasso.append(lasso.score(training_data_x, training_data_y))"
   ]
  },
  {
   "cell_type": "markdown",
   "metadata": {},
   "source": [
    "Plot the size of the model (ie. size of coefficients) as a function of the choice of lambda. A smaller model is better, but the size will collapse as regression overpowers fitting. We want to choose lambda"
   ]
  },
  {
   "cell_type": "code",
   "execution_count": 53,
   "metadata": {},
   "outputs": [
    {
     "data": {
      "image/png": "[encoded data removed]",
      "text/plain": [
       "<Figure size 432x288 with 2 Axes>"
      ]
     },
     "metadata": {
      "needs_background": "light"
     },
     "output_type": "display_data"
    }
   ],
   "source": [
    "# Display results\n",
    "\n",
    "# First see how the 10 features we learned scale as we change the regularization parameter\n",
    "plt.subplot(1,2,1)\n",
    "plt.semilogx(lambdas, np.abs(coefs_ridge))\n",
    "axes = plt.gca()\n",
    "#ax.set_xscale('log')\n",
    "#ax.set_xlim(ax.get_xlim()[::-1])  # reverse axis\n",
    "plt.xlabel(r'$\\lambda$',fontsize=18)\n",
    "plt.ylabel('$|w_i|$',fontsize=18)\n",
    "plt.title('Ridge')\n",
    "#plt.savefig(\"Ridge_sparsity_scale.pdf.pdf\")\n",
    "\n",
    "\n",
    "\n",
    "plt.subplot(1,2,2)\n",
    "plt.semilogx(lambdas, np.abs(coefs_lasso))\n",
    "axes = plt.gca()\n",
    "#ax.set_xscale('log')\n",
    "#ax.set_xlim(ax.get_xlim()[::-1])  # reverse axis\n",
    "plt.xlabel(r'$\\lambda$',fontsize=18)\n",
    "#plt.ylabel('$|\\mathbf{w}|$',fontsize=18)\n",
    "plt.title('LASSO')\n",
    "#plt.savefig(\"LASSO_sparsity_scale.pdf\")\n",
    "plt.show()"
   ]
  },
  {
   "cell_type": "code",
   "execution_count": 56,
   "metadata": {},
   "outputs": [
    {
     "data": {
      "image/png": "[encoded data removed]",
      "text/plain": [
       "<Figure size 432x288 with 1 Axes>"
      ]
     },
     "metadata": {
      "needs_background": "light"
     },
     "output_type": "display_data"
    }
   ],
   "source": [
    "# Plot our performance on the training data\n",
    "plt.semilogx(lambdas, train_errors_ridge, 'b',label='Train (Ridge)')\n",
    "plt.semilogx(lambdas, train_errors_lasso, 'g',label='Train (LASSO)')\n",
    "#plt.vlines(alpha_optim, plt.ylim()[0], np.max(test_errors), color='k',\n",
    "#           linewidth=3, label='Optimum on test')\n",
    "plt.legend(loc='upper right')\n",
    "plt.ylim([0, 1.0])\n",
    "plt.xlabel(r'$\\lambda$',fontsize=18)\n",
    "plt.ylabel('Performance')\n",
    "#plt.savefig(\"Ridge_LASSO_sparsity_performance.pdf\")\n",
    "plt.show()"
   ]
  },
  {
   "cell_type": "markdown",
   "metadata": {},
   "source": [
    "We'll choose labmda = 100 for ridge regression and lambda = 0.02 for lasso regression."
   ]
  },
  {
   "cell_type": "code",
   "execution_count": 58,
   "metadata": {},
   "outputs": [],
   "source": [
    "lambda_ridge = 100\n",
    "lambda_lasso = 0.02"
   ]
  },
  {
   "cell_type": "markdown",
   "metadata": {},
   "source": [
    "## Predictions on test data\n",
    "\n",
    "Now we want to use our model to make predictions on the test data. Let's see how each model does."
   ]
  },
  {
   "cell_type": "code",
   "execution_count": 81,
   "metadata": {},
   "outputs": [],
   "source": [
    "# Make model\n",
    "ridge.set_params(alpha=lambda_ridge) # ridge() uses alpha instead of labmda to label the regularization penalty strength\n",
    "ridge.fit(training_data_x, training_data_y)\n",
    "\n",
    "lasso.set_params(alpha=lambda_lasso)# lasso() uses alpha instead of labmda to label the regularization penalty strength\n",
    "lasso.fit(training_data_x, training_data_y)\n",
    "\n",
    "# Make predictions\n",
    "ridge_predictions = pd.DataFrame(data=(ridge.predict(testing_data) > 0.5).astype(int),\n",
    "                                 index=testing_data.index, columns=['Survived'])\n",
    "\n",
    "lasso_predictions = pd.DataFrame(data=(lasso.predict(testing_data) > 0.5).astype(int),\n",
    "                                 index=testing_data.index, columns=['Survived'])\n",
    "\n",
    "# Write to file for submission\n",
    "ridge_predictions.to_csv('ridge_submission.csv')\n",
    "lasso_predictions.to_csv('lasso_submission.csv')\n"
   ]
  },
  {
   "cell_type": "code",
   "execution_count": null,
   "metadata": {},
   "outputs": [],
   "source": []
  }
 ],
 "metadata": {
  "kernelspec": {
   "display_name": "Python 3",
   "language": "python",
   "name": "python3"
  },
  "language_info": {
   "codemirror_mode": {
    "name": "ipython",
    "version": 3
   },
   "file_extension": ".py",
   "mimetype": "text/x-python",
   "name": "python",
   "nbconvert_exporter": "python",
   "pygments_lexer": "ipython3",
   "version": "3.7.2"
  }
 },
 "nbformat": 4,
 "nbformat_minor": 2
}
